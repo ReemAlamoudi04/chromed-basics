{
 "cells": [
  {
   "cell_type": "code",
   "execution_count": 6,
   "metadata": {},
   "outputs": [],
   "source": [
    "import chromadb\n",
    "chroma_client = chromadb.Client()"
   ]
  },
  {
   "cell_type": "code",
   "execution_count": 8,
   "metadata": {},
   "outputs": [],
   "source": [
    "collection= chroma_client.create_collection(name= \"my_collection\")"
   ]
  },
  {
   "cell_type": "code",
   "execution_count": 12,
   "metadata": {},
   "outputs": [
    {
     "name": "stderr",
     "output_type": "stream",
     "text": [
      "/Users/reem/.cache/chroma/onnx_models/all-MiniLM-L6-v2/onnx.tar.gz: 100%|██████████| 79.3M/79.3M [03:03<00:00, 454kiB/s] \n"
     ]
    }
   ],
   "source": [
    "collection.add(\n",
    "    documents=[\"Reem Mohammed Alamoudi\",\n",
    "               \"Intern in prime gate\",\n",
    "               \"Loves Cats\",\n",
    "               \"Hates summer\"\n",
    "               ],\n",
    "    ids=[\"id1\",\"id2\",\"id3\",\"id4\" ]\n",
    ")"
   ]
  },
  {
   "cell_type": "code",
   "execution_count": 15,
   "metadata": {},
   "outputs": [
    {
     "name": "stdout",
     "output_type": "stream",
     "text": [
      "{'ids': [['id2']], 'embeddings': None, 'documents': [['Intern in prime gate']], 'uris': None, 'data': None, 'metadatas': [[None]], 'distances': [[1.0039169788360596]], 'included': [<IncludeEnum.distances: 'distances'>, <IncludeEnum.documents: 'documents'>, <IncludeEnum.metadatas: 'metadatas'>]}\n"
     ]
    }
   ],
   "source": [
    "results= collection.query(\n",
    "    query_texts=[\"this is a query document about interns\"],\n",
    "    n_results= 1 #number of results to return\n",
    ")\n",
    "print(results)"
   ]
  },
  {
   "cell_type": "code",
   "execution_count": 17,
   "metadata": {},
   "outputs": [],
   "source": [
    "client= chromadb.PersistentClient(path= \"./db/\")"
   ]
  },
  {
   "cell_type": "code",
   "execution_count": 78,
   "metadata": {},
   "outputs": [
    {
     "data": {
      "text/plain": [
       "1740470072762493000"
      ]
     },
     "execution_count": 78,
     "metadata": {},
     "output_type": "execute_result"
    }
   ],
   "source": [
    "client.heartbeat() #returnts nanosecond heartbeat , to make sure client is still connected"
   ]
  },
  {
   "cell_type": "code",
   "execution_count": null,
   "metadata": {},
   "outputs": [],
   "source": [
    "client.reset()  #it resets the data set"
   ]
  },
  {
   "cell_type": "code",
   "execution_count": null,
   "metadata": {},
   "outputs": [],
   "source": [
    "from chromadb.config import DEFAULT_TENANT,DEFAULT_DATABASE,Settings"
   ]
  },
  {
   "cell_type": "code",
   "execution_count": null,
   "metadata": {},
   "outputs": [],
   "source": [
    "DEFAULT_TENANT,DEFAULT_DATABASE"
   ]
  },
  {
   "cell_type": "code",
   "execution_count": 27,
   "metadata": {},
   "outputs": [],
   "source": [
    "from chromadb.config import Settings, DEFAULT_TENANT, DEFAULT_DATABASE"
   ]
  },
  {
   "cell_type": "code",
   "execution_count": 26,
   "metadata": {},
   "outputs": [],
   "source": [
    "client = chromadb.PersistentClient(\n",
    "    path=\"./db2/\",\n",
    "    settings=Settings(\n",
    "        is_persistent=True,\n",
    "        persist_directory=\"./db2/\",  # Fixed spelling here\n",
    "        allow_reset=True,\n",
    "        anonymized_telemetry=False\n",
    "    ),\n",
    "    tenant=DEFAULT_TENANT,\n",
    "    database=DEFAULT_DATABASE\n",
    ")  # Removed the trailing slash"
   ]
  },
  {
   "cell_type": "code",
   "execution_count": 28,
   "metadata": {},
   "outputs": [
    {
     "data": {
      "text/plain": [
       "True"
      ]
     },
     "execution_count": 28,
     "metadata": {},
     "output_type": "execute_result"
    }
   ],
   "source": [
    "client.reset()"
   ]
  },
  {
   "cell_type": "code",
   "execution_count": 52,
   "metadata": {},
   "outputs": [],
   "source": [
    "from chromadb.utils import embedding_functions\n",
    "from chromadb.utils.embedding_functions import SentenceTransformerEmbeddingFunction"
   ]
  },
  {
   "cell_type": "code",
   "execution_count": 53,
   "metadata": {},
   "outputs": [],
   "source": [
    "emb_fun= embedding_functions.SentenceTransformerEmbeddingFunction()"
   ]
  },
  {
   "cell_type": "code",
   "execution_count": 54,
   "metadata": {},
   "outputs": [],
   "source": [
    "model_name=\"all-miniLM-L6-v2\""
   ]
  },
  {
   "cell_type": "code",
   "execution_count": 55,
   "metadata": {},
   "outputs": [],
   "source": [
    "emb_fun=embedding_functions.SentenceTransformerEmbeddingFunction(model_name= model_name)"
   ]
  },
  {
   "cell_type": "code",
   "execution_count": 60,
   "metadata": {},
   "outputs": [
    {
     "data": {
      "text/plain": [
       "384"
      ]
     },
     "execution_count": 60,
     "metadata": {},
     "output_type": "execute_result"
    }
   ],
   "source": [
    "len(emb_fun([\"foo\"])[0])"
   ]
  },
  {
   "cell_type": "code",
   "execution_count": null,
   "metadata": {},
   "outputs": [],
   "source": [
    "collection= client.create_collection(name=\"my_collection2\", embedding_function=emb_fun)"
   ]
  },
  {
   "cell_type": "code",
   "execution_count": null,
   "metadata": {},
   "outputs": [
    {
     "name": "stdout",
     "output_type": "stream",
     "text": [
      "Collection(name=my_colo)\n"
     ]
    }
   ],
   "source": [
    "# collection= client.get_collection(name=\"my_collection2\")  #if the collection already exist \n",
    "\n",
    "# client.delete_collection(name=\"my_collection2\") #to delete a collection\n",
    "\n",
    "collection= client.get_or_create_collection(name= \"my_colo\")\n",
    "print(collection)\n",
    "\n",
    "collection.modify(name= \"new_colo\") #rename a collection"
   ]
  },
  {
   "cell_type": "code",
   "execution_count": 66,
   "metadata": {},
   "outputs": [],
   "source": [
    "from sklearn.datasets import fetch_20newsgroups\n",
    "newgroups_train = fetch_20newsgroups(subset=\"train\")"
   ]
  },
  {
   "cell_type": "code",
   "execution_count": 68,
   "metadata": {},
   "outputs": [],
   "source": [
    "doc_lists=[]\n",
    "meta_lists=[]\n",
    "for i in newgroups_train['data'][:100]:\n",
    "    doc_lists.append(i)\n",
    "    meta_lists.append({'len_of_doc':len(i)})"
   ]
  },
  {
   "cell_type": "code",
   "execution_count": 70,
   "metadata": {},
   "outputs": [
    {
     "name": "stderr",
     "output_type": "stream",
     "text": [
      "Context leak detected, msgtracer returned -1\n",
      "Context leak detected, msgtracer returned -1\n",
      "Context leak detected, msgtracer returned -1\n",
      "Context leak detected, msgtracer returned -1\n",
      "Context leak detected, msgtracer returned -1\n",
      "Context leak detected, msgtracer returned -1\n",
      "Context leak detected, msgtracer returned -1\n",
      "Context leak detected, msgtracer returned -1\n",
      "Context leak detected, msgtracer returned -1\n",
      "Context leak detected, msgtracer returned -1\n",
      "Context leak detected, msgtracer returned -1\n",
      "Context leak detected, msgtracer returned -1\n",
      "Context leak detected, msgtracer returned -1\n",
      "Context leak detected, msgtracer returned -1\n",
      "Context leak detected, msgtracer returned -1\n",
      "Context leak detected, msgtracer returned -1\n",
      "Context leak detected, msgtracer returned -1\n",
      "Context leak detected, msgtracer returned -1\n",
      "Context leak detected, msgtracer returned -1\n",
      "Context leak detected, msgtracer returned -1\n",
      "Context leak detected, msgtracer returned -1\n",
      "Context leak detected, msgtracer returned -1\n",
      "Context leak detected, msgtracer returned -1\n",
      "Context leak detected, msgtracer returned -1\n",
      "Context leak detected, msgtracer returned -1\n",
      "Context leak detected, msgtracer returned -1\n",
      "Context leak detected, msgtracer returned -1\n",
      "Context leak detected, msgtracer returned -1\n",
      "Context leak detected, msgtracer returned -1\n",
      "Context leak detected, msgtracer returned -1\n",
      "Context leak detected, msgtracer returned -1\n",
      "Context leak detected, msgtracer returned -1\n",
      "Context leak detected, msgtracer returned -1\n",
      "Context leak detected, msgtracer returned -1\n",
      "Context leak detected, msgtracer returned -1\n",
      "Context leak detected, msgtracer returned -1\n",
      "Context leak detected, msgtracer returned -1\n",
      "Context leak detected, msgtracer returned -1\n",
      "Context leak detected, msgtracer returned -1\n",
      "Context leak detected, msgtracer returned -1\n",
      "Context leak detected, msgtracer returned -1\n",
      "Context leak detected, msgtracer returned -1\n",
      "Context leak detected, msgtracer returned -1\n",
      "Context leak detected, msgtracer returned -1\n",
      "Context leak detected, msgtracer returned -1\n",
      "Context leak detected, msgtracer returned -1\n",
      "Context leak detected, msgtracer returned -1\n",
      "Context leak detected, msgtracer returned -1\n",
      "Context leak detected, msgtracer returned -1\n",
      "Context leak detected, msgtracer returned -1\n",
      "Context leak detected, msgtracer returned -1\n",
      "Context leak detected, msgtracer returned -1\n",
      "Context leak detected, msgtracer returned -1\n",
      "Context leak detected, msgtracer returned -1\n",
      "Context leak detected, msgtracer returned -1\n",
      "Context leak detected, msgtracer returned -1\n",
      "Context leak detected, msgtracer returned -1\n",
      "Context leak detected, msgtracer returned -1\n",
      "Context leak detected, msgtracer returned -1\n",
      "Context leak detected, msgtracer returned -1\n",
      "Context leak detected, msgtracer returned -1\n",
      "Context leak detected, msgtracer returned -1\n",
      "Context leak detected, msgtracer returned -1\n",
      "Context leak detected, msgtracer returned -1\n",
      "Context leak detected, msgtracer returned -1\n",
      "Context leak detected, msgtracer returned -1\n",
      "Context leak detected, msgtracer returned -1\n",
      "Context leak detected, msgtracer returned -1\n",
      "Context leak detected, msgtracer returned -1\n",
      "Context leak detected, msgtracer returned -1\n",
      "Context leak detected, msgtracer returned -1\n",
      "Context leak detected, msgtracer returned -1\n",
      "Context leak detected, msgtracer returned -1\n",
      "Context leak detected, msgtracer returned -1\n",
      "Context leak detected, msgtracer returned -1\n",
      "Context leak detected, msgtracer returned -1\n",
      "Context leak detected, msgtracer returned -1\n",
      "Context leak detected, msgtracer returned -1\n",
      "Context leak detected, msgtracer returned -1\n",
      "Context leak detected, msgtracer returned -1\n",
      "Context leak detected, msgtracer returned -1\n",
      "Context leak detected, msgtracer returned -1\n",
      "Context leak detected, msgtracer returned -1\n",
      "Context leak detected, msgtracer returned -1\n",
      "Context leak detected, msgtracer returned -1\n",
      "Context leak detected, msgtracer returned -1\n",
      "Context leak detected, msgtracer returned -1\n",
      "Context leak detected, msgtracer returned -1\n",
      "Context leak detected, msgtracer returned -1\n",
      "Context leak detected, msgtracer returned -1\n",
      "Context leak detected, msgtracer returned -1\n",
      "Context leak detected, msgtracer returned -1\n",
      "Context leak detected, msgtracer returned -1\n",
      "Context leak detected, msgtracer returned -1\n",
      "Context leak detected, msgtracer returned -1\n",
      "Context leak detected, msgtracer returned -1\n",
      "Context leak detected, msgtracer returned -1\n",
      "Context leak detected, msgtracer returned -1\n",
      "Context leak detected, msgtracer returned -1\n",
      "Context leak detected, msgtracer returned -1\n"
     ]
    }
   ],
   "source": [
    "collection.add(\n",
    "    documents=doc_lists,\n",
    "    metadatas=meta_lists,\n",
    "    ids=['id_{}'.format(i)for i in range (100)]\n",
    ")"
   ]
  },
  {
   "cell_type": "code",
   "execution_count": 72,
   "metadata": {},
   "outputs": [
    {
     "data": {
      "text/plain": [
       "{'ids': ['id_0', 'id_1'],\n",
       " 'embeddings': array([[-7.33795688e-02,  1.44641757e-01,  4.38596085e-02,\n",
       "         -8.48913472e-03,  1.09741408e-02,  4.65293182e-03,\n",
       "         -9.20305178e-02,  5.64194880e-02, -1.17749654e-01,\n",
       "         -4.19953978e-03,  6.26943447e-03, -9.88180377e-03,\n",
       "          6.92776814e-02, -6.33874238e-02, -6.93426356e-02,\n",
       "          1.64270550e-02,  6.67581037e-02, -4.55265157e-02,\n",
       "         -2.49024685e-02,  4.60008755e-02, -2.86190165e-03,\n",
       "          6.09078619e-04, -2.05396488e-02, -1.58445761e-02,\n",
       "         -1.92837026e-02,  7.00325146e-02,  3.52002345e-02,\n",
       "          1.09424964e-01, -3.74698862e-02, -1.16903178e-01,\n",
       "          6.30562231e-02,  5.18552102e-02, -4.67677414e-03,\n",
       "          1.98366842e-03,  9.50284898e-02, -6.80558383e-02,\n",
       "          2.88713034e-02,  3.79219954e-03, -4.09578010e-02,\n",
       "         -3.78162926e-03, -2.63950527e-02,  2.96923537e-02,\n",
       "          9.12220217e-03, -1.63663141e-02, -1.68634076e-02,\n",
       "          7.32346112e-03, -3.90637890e-02, -6.12821393e-02,\n",
       "          1.36391800e-02, -7.44784549e-02, -2.11336594e-02,\n",
       "          1.07454937e-02,  3.21263857e-02, -6.16474226e-02,\n",
       "         -9.52935778e-04, -1.18441908e-02, -4.96103317e-02,\n",
       "         -3.61401774e-02, -1.28985103e-02, -4.91146669e-02,\n",
       "          7.62887299e-02, -3.39245796e-03, -3.31020704e-03,\n",
       "          8.18387978e-03, -2.00787988e-02, -8.90366361e-03,\n",
       "         -7.48507008e-02, -7.81324729e-02,  4.09237258e-02,\n",
       "         -5.66750206e-02,  9.08310339e-02, -1.14081788e-03,\n",
       "          6.81943260e-03,  1.68295801e-02, -1.62576735e-02,\n",
       "         -7.53271282e-02,  4.21462953e-02,  5.55561483e-02,\n",
       "          2.56756861e-02, -8.34396388e-03,  2.66037639e-02,\n",
       "         -8.73065263e-04, -5.64304180e-02, -5.25897071e-02,\n",
       "         -3.78629081e-02,  3.83789986e-02,  8.31277517e-04,\n",
       "          4.54570837e-02,  2.01589540e-02,  1.38122207e-02,\n",
       "         -8.11205730e-02, -4.67351750e-02, -1.49557516e-02,\n",
       "         -2.23258063e-02, -6.19513774e-03,  2.35297717e-02,\n",
       "          1.70239378e-02, -8.85918830e-03,  6.29949123e-02,\n",
       "          9.55744907e-02,  1.92013420e-02,  1.89626776e-02,\n",
       "          7.36341476e-02, -1.93021912e-02, -8.17594863e-03,\n",
       "          2.70636398e-02, -2.60336660e-02,  1.45525500e-01,\n",
       "         -1.30072813e-02,  1.79404579e-02,  2.62621194e-02,\n",
       "          2.35863980e-02, -8.22943151e-02,  3.56032178e-02,\n",
       "         -2.26569250e-02, -1.43376797e-01, -4.52286713e-02,\n",
       "          1.16200827e-03,  7.26030022e-02, -2.98060477e-03,\n",
       "          5.05310223e-02, -8.33833665e-02, -2.46799756e-02,\n",
       "          7.38590490e-03, -1.07267126e-02, -3.57800312e-02,\n",
       "         -3.66490595e-02, -1.39475977e-33,  5.57242054e-03,\n",
       "          3.77540998e-02, -2.51213275e-02,  1.19942902e-02,\n",
       "          1.64671298e-02,  9.43599362e-03,  1.64988209e-02,\n",
       "          6.27228692e-02, -8.84921700e-02,  7.26420879e-02,\n",
       "         -1.67177955e-03, -7.12376758e-02, -2.84871142e-02,\n",
       "         -4.28536870e-02, -1.50787514e-02, -5.43754213e-02,\n",
       "         -1.16025239e-01, -7.30555430e-02, -5.63605763e-02,\n",
       "          2.94985957e-02,  6.53709099e-02,  7.96803087e-02,\n",
       "          3.60839032e-02, -4.29566531e-03,  2.82068318e-03,\n",
       "         -2.54169349e-02, -1.87651615e-03, -1.86638907e-02,\n",
       "          5.27658314e-02,  1.33714527e-02,  9.67468135e-03,\n",
       "         -4.83379792e-03,  2.78450339e-03, -3.45794931e-02,\n",
       "         -1.35698151e-02, -2.44948640e-02, -6.71687201e-02,\n",
       "         -7.74633288e-02, -6.77849585e-03, -5.96176758e-02,\n",
       "          7.49673322e-02, -2.69691329e-02, -9.40060318e-02,\n",
       "          8.14124793e-02, -1.11993343e-01,  6.82757050e-02,\n",
       "          1.53072190e-03, -4.75613624e-02,  3.91433612e-02,\n",
       "         -8.59042928e-02, -3.35842371e-02,  3.23367305e-03,\n",
       "          3.80880423e-02,  9.14188847e-03, -1.26828581e-01,\n",
       "         -4.67463769e-02, -1.27279703e-02, -2.16732454e-02,\n",
       "          1.12390015e-02,  1.95757002e-02,  7.12043419e-02,\n",
       "          6.29104972e-02,  7.74575444e-03, -1.38144614e-02,\n",
       "         -3.04844864e-02, -2.01126616e-02, -7.52969831e-02,\n",
       "          9.45161190e-03,  2.95623187e-02,  3.78835872e-02,\n",
       "          4.97038066e-02, -7.05182701e-02,  3.41942050e-02,\n",
       "          2.11738739e-02,  1.36878520e-01, -1.82576210e-03,\n",
       "          8.01027566e-03,  5.32466732e-03, -2.50840634e-02,\n",
       "         -3.60670760e-02,  1.72362104e-02,  4.13331874e-02,\n",
       "         -2.94170436e-02,  1.25163216e-02, -1.05449196e-03,\n",
       "         -1.75087415e-02, -1.10774934e-02, -9.88729075e-02,\n",
       "         -1.48277488e-02,  1.09172150e-01, -6.56977221e-02,\n",
       "         -2.19134949e-02, -8.80816951e-02,  4.23181579e-02,\n",
       "         -2.54453346e-02, -3.43303529e-33,  6.40428960e-02,\n",
       "          2.98714702e-04,  6.51012957e-02, -2.63318941e-02,\n",
       "          5.91569990e-02,  1.61015876e-02, -4.36187871e-02,\n",
       "          1.26170292e-01, -2.39271834e-03,  4.88598482e-04,\n",
       "          9.15389434e-02,  3.99201363e-02,  6.07668646e-02,\n",
       "         -3.70734348e-03,  3.21981236e-02,  8.09815675e-02,\n",
       "          1.05788365e-01, -9.88559127e-02, -6.07901067e-02,\n",
       "         -3.19342897e-03, -4.37324382e-02, -4.50938661e-03,\n",
       "         -7.28420094e-02, -3.81330727e-03, -8.27587768e-02,\n",
       "          6.34065345e-02,  1.15121051e-03, -3.43452878e-02,\n",
       "         -2.69095488e-02,  3.39890830e-02, -4.32652868e-02,\n",
       "         -3.65037061e-02,  5.83828129e-02,  1.04149193e-01,\n",
       "         -1.05576545e-01, -2.13799104e-02,  6.52267486e-02,\n",
       "         -1.64875798e-02, -7.72524849e-02, -6.58508465e-02,\n",
       "          3.30210775e-02,  4.95809829e-03, -4.32500914e-02,\n",
       "          9.09156725e-02,  2.73301527e-02, -5.66967241e-02,\n",
       "         -1.76208734e-03,  1.54347401e-02,  1.69871431e-02,\n",
       "          6.93927109e-02,  3.06095090e-02,  1.74074844e-02,\n",
       "          4.62738648e-02,  6.44250959e-02, -2.51784138e-02,\n",
       "         -4.08416204e-02, -5.28024929e-03, -2.13910788e-02,\n",
       "          4.56446335e-02,  1.15984201e-01,  8.63900632e-02,\n",
       "          5.82862552e-03, -9.97306705e-02,  5.55651961e-03,\n",
       "          2.51261722e-02, -8.16365704e-02, -8.14785808e-02,\n",
       "         -8.09532627e-02, -8.96522999e-02, -2.74109119e-03,\n",
       "          5.46456277e-02,  2.59135179e-02, -4.47117984e-02,\n",
       "         -2.66490337e-02,  8.50900412e-02,  4.55144756e-02,\n",
       "          1.69429719e-03, -3.99917290e-02, -4.01322469e-02,\n",
       "          2.99989916e-02,  2.82139201e-02, -7.32796788e-02,\n",
       "          1.62723241e-03,  7.85420910e-02,  3.93979996e-02,\n",
       "          4.81042042e-02, -2.75668856e-02,  7.08931088e-02,\n",
       "          4.50740149e-03, -8.79556499e-03, -2.02651396e-02,\n",
       "          4.73226309e-02, -6.04579188e-02, -7.43560866e-03,\n",
       "         -1.85739007e-02, -5.42631042e-08, -1.15908235e-02,\n",
       "         -5.68679627e-03, -6.67227358e-02,  1.29662892e-02,\n",
       "         -3.62839922e-02, -2.92980988e-02,  8.17552805e-02,\n",
       "         -2.03887187e-02,  3.69724743e-02, -2.58257184e-02,\n",
       "         -5.08739352e-02,  1.19740153e-02, -5.82837872e-02,\n",
       "         -2.57833134e-02, -7.77566358e-02,  1.15345186e-02,\n",
       "         -8.07987675e-02,  8.90157074e-02, -5.73270954e-04,\n",
       "          1.35866478e-02,  7.93313328e-03, -1.70444213e-02,\n",
       "          4.08723205e-02,  1.31181637e-02, -5.16470745e-02,\n",
       "         -1.24705862e-02, -7.64071122e-02,  2.15757657e-02,\n",
       "         -7.53300358e-03, -6.19725697e-02, -2.46209744e-02,\n",
       "          6.69704378e-02,  2.97768638e-02, -1.33452788e-02,\n",
       "          4.07320894e-02, -8.16073827e-03,  7.56262289e-03,\n",
       "         -4.13445383e-03,  3.10180597e-02, -3.35021242e-02,\n",
       "          9.38475579e-02, -5.18623814e-02, -1.12500750e-02,\n",
       "          2.91869715e-02,  1.39383767e-02,  3.02426144e-02,\n",
       "         -2.78948955e-02, -7.60274976e-02,  1.33230537e-02,\n",
       "          1.60717964e-02,  8.79121423e-02,  3.65919285e-02,\n",
       "         -7.30838850e-02,  5.46035878e-02, -6.54914528e-02,\n",
       "         -5.20022847e-02, -6.29062131e-02,  4.63684136e-03,\n",
       "          2.27411352e-02, -6.47500455e-02,  1.04309611e-01,\n",
       "         -2.45833285e-02, -6.71775825e-03,  1.32524565e-01],\n",
       "        [ 1.09492969e-02,  3.88724506e-02,  4.86684144e-02,\n",
       "          1.38524743e-02,  6.87889708e-03, -3.02611962e-02,\n",
       "         -2.74945460e-02,  6.21933304e-02, -2.02482510e-02,\n",
       "         -7.36064687e-02, -4.35993783e-02,  3.86032499e-02,\n",
       "          1.34325475e-02, -7.80700520e-02,  1.87713187e-02,\n",
       "          1.14813000e-02,  2.58743241e-02, -8.36970881e-02,\n",
       "         -8.43764935e-03, -1.30402241e-02, -1.10314498e-02,\n",
       "         -1.15731366e-01,  1.28614465e-02, -1.31717613e-02,\n",
       "          1.80935543e-02, -5.85318869e-03, -2.18596440e-02,\n",
       "         -1.01710390e-02, -4.38698269e-02, -2.02708561e-02,\n",
       "         -1.06779970e-01,  5.53869642e-02,  8.29060897e-02,\n",
       "         -1.12960516e-02,  6.43065805e-03, -1.51869180e-02,\n",
       "          1.50291488e-01, -4.40969728e-02, -2.77689565e-02,\n",
       "          1.28957126e-02,  5.00890128e-02, -2.54007820e-02,\n",
       "          7.61640072e-02,  9.44549814e-02,  2.81706881e-02,\n",
       "          1.32901380e-02,  4.02453505e-02, -8.99131298e-02,\n",
       "         -9.76069346e-02,  5.05636372e-02, -2.51049679e-02,\n",
       "          3.33176218e-02,  8.58626794e-03,  1.52648296e-02,\n",
       "         -3.82694453e-02,  9.56674963e-02,  6.04399145e-02,\n",
       "          7.75546115e-03,  2.93797050e-02,  2.44294405e-02,\n",
       "         -2.14612042e-03, -4.55482081e-02, -2.76094936e-02,\n",
       "          1.29031837e-02,  3.77419032e-02,  1.77685264e-02,\n",
       "          5.41001633e-02, -7.16813356e-02, -7.84944091e-03,\n",
       "          7.86511227e-03, -4.03471179e-02,  2.60157324e-02,\n",
       "          1.29609816e-02,  3.55769321e-02, -1.36148501e-02,\n",
       "         -2.00423282e-02,  1.54043185e-02, -1.90194044e-02,\n",
       "          7.02457950e-02, -4.37234826e-02, -8.04842357e-03,\n",
       "         -7.70744681e-03, -4.61045913e-02, -1.17923014e-01,\n",
       "          5.62739484e-02,  5.02525643e-03, -4.53181937e-02,\n",
       "          8.61643851e-02, -2.21989807e-02, -1.28859758e-01,\n",
       "          5.97828440e-02,  5.45909964e-02,  2.93808728e-02,\n",
       "         -2.98204981e-02,  1.06288992e-01,  1.25821039e-01,\n",
       "         -7.36237392e-02, -1.07334942e-01, -3.46750170e-02,\n",
       "         -1.25556253e-02,  1.62389874e-02,  4.64233980e-02,\n",
       "         -4.84420694e-02,  1.72179251e-03, -9.91620705e-04,\n",
       "          4.18227986e-02, -7.50471558e-03,  7.33839646e-02,\n",
       "         -1.40740320e-01,  2.37219799e-02,  4.16605622e-02,\n",
       "          6.53904751e-02,  3.51558253e-02,  1.95140410e-02,\n",
       "          3.39538306e-02, -5.03869392e-02, -2.74146702e-02,\n",
       "          3.62397693e-02,  7.00178072e-02,  5.01155555e-02,\n",
       "          1.04533881e-02, -4.74491566e-02, -5.52459992e-02,\n",
       "         -7.88481906e-02, -4.85475808e-02, -9.01408773e-03,\n",
       "         -6.58508614e-02,  6.19081300e-33, -1.59940943e-02,\n",
       "          1.43038779e-01,  1.12410132e-02, -4.91921939e-02,\n",
       "         -2.95835882e-02, -3.39910500e-02,  1.18057961e-02,\n",
       "         -4.68119793e-02,  3.06232888e-02,  3.31164189e-02,\n",
       "         -4.50567305e-02, -5.31518199e-02, -2.92455908e-02,\n",
       "          4.69248481e-02,  8.37350190e-02, -4.96659614e-02,\n",
       "          3.92689556e-02,  3.40893641e-02, -2.30831131e-02,\n",
       "         -3.38308848e-02,  6.47863820e-02,  3.19540948e-02,\n",
       "         -3.77675965e-02, -2.61716247e-02,  1.10584192e-01,\n",
       "         -1.54430186e-02, -3.02676894e-02, -2.85320859e-02,\n",
       "         -1.73454080e-02,  6.33238163e-03, -7.30783772e-03,\n",
       "         -9.19160545e-02, -2.74924301e-02, -4.03327607e-02,\n",
       "          4.42003757e-02, -1.46398731e-02, -2.33062729e-02,\n",
       "         -4.45051640e-02, -2.66561867e-04, -2.77163722e-02,\n",
       "         -2.70543713e-02,  2.40790881e-02, -3.80138569e-02,\n",
       "         -1.16762035e-02, -2.19016876e-02,  6.52427897e-02,\n",
       "         -3.67004599e-04,  2.91774478e-02,  9.28716883e-02,\n",
       "         -5.52676320e-02, -7.97555149e-02,  4.08895835e-02,\n",
       "         -2.40670294e-02, -1.05493972e-02,  1.19178388e-02,\n",
       "          2.49428228e-02,  1.08684227e-01, -6.21625781e-02,\n",
       "         -6.14925660e-03,  1.71038076e-01,  1.96120627e-02,\n",
       "         -3.31149958e-02,  1.00325914e-02, -6.83118328e-02,\n",
       "         -9.47222784e-02,  2.06567254e-02, -1.19983628e-02,\n",
       "         -2.05194540e-02, -4.60557751e-02,  1.37217548e-02,\n",
       "          5.26431166e-02, -5.59513830e-02, -3.13809700e-02,\n",
       "          1.31574983e-03,  1.09784035e-02,  2.72418186e-02,\n",
       "         -3.22965011e-02,  1.56688355e-02, -3.91192883e-02,\n",
       "         -6.71685413e-02,  4.86261137e-02, -3.75933163e-02,\n",
       "         -4.14236933e-02, -4.72202413e-02,  6.01213090e-02,\n",
       "          5.23394905e-02,  2.92329360e-02,  6.90783486e-02,\n",
       "          1.55676529e-02, -2.38120817e-02,  7.63829350e-02,\n",
       "         -2.72302497e-02,  5.38376682e-02,  2.60404125e-02,\n",
       "         -1.24123059e-01, -5.82800401e-33,  3.85039672e-03,\n",
       "         -2.44514458e-02,  5.83957024e-02,  9.67882499e-02,\n",
       "         -2.68231314e-02, -1.96411684e-02, -1.05565246e-02,\n",
       "         -3.49304788e-02,  2.98123695e-02, -6.83316663e-02,\n",
       "         -2.09141131e-02, -1.37678254e-02,  2.38137804e-02,\n",
       "         -3.93800102e-02, -2.31273230e-02,  6.33649807e-03,\n",
       "          2.04003579e-03, -6.09463528e-02,  7.58391023e-02,\n",
       "         -2.56928173e-03,  8.90795216e-02,  3.16271670e-02,\n",
       "         -1.37151685e-02, -1.89979561e-02, -1.08512407e-02,\n",
       "         -7.27101266e-02, -1.19964145e-02,  4.86859605e-02,\n",
       "          9.35779139e-03,  4.54200944e-03, -3.29582095e-02,\n",
       "         -1.05982393e-01,  3.17282714e-02,  7.44822398e-02,\n",
       "          6.43886253e-02,  2.37239767e-02,  1.27032086e-01,\n",
       "         -3.80258113e-02,  1.79914031e-02,  1.76406428e-02,\n",
       "          8.07788745e-02, -1.38597423e-02, -1.49316862e-02,\n",
       "          7.37803476e-03, -9.51565802e-03,  5.93679436e-02,\n",
       "         -5.67937046e-02, -5.65643720e-02,  3.14696468e-02,\n",
       "         -1.36747407e-02,  1.04509993e-02, -4.15508039e-02,\n",
       "          6.99538514e-02,  2.47669574e-02, -1.91951229e-03,\n",
       "         -4.85630892e-02, -3.91468219e-02,  4.50021662e-02,\n",
       "         -3.02799568e-02, -6.24833740e-02,  2.45934422e-03,\n",
       "          2.35877391e-02,  6.64179586e-03, -4.24306653e-02,\n",
       "          1.92014575e-02, -1.35784205e-02,  5.07032238e-02,\n",
       "         -3.06431018e-02, -2.81780846e-02, -4.85501476e-02,\n",
       "         -4.83876318e-02, -4.89023924e-02, -1.95923680e-03,\n",
       "         -6.10370096e-03, -1.21676475e-01,  2.85240188e-02,\n",
       "          5.75168245e-02, -1.63157558e-04, -1.14852535e-02,\n",
       "          1.27116330e-02, -1.21752828e-01,  2.13687657e-03,\n",
       "         -6.11169711e-02,  7.42689846e-03, -6.62897378e-02,\n",
       "         -4.34506731e-03,  8.79947767e-02, -5.85140288e-02,\n",
       "         -3.14189959e-03, -9.05809924e-02, -3.75194214e-02,\n",
       "         -2.17092503e-02, -6.75967559e-02,  2.83453520e-02,\n",
       "         -2.80019306e-02, -5.84796567e-08,  4.70002145e-02,\n",
       "         -4.05972032e-03, -2.01500971e-02,  2.18688063e-02,\n",
       "          2.48841867e-02, -5.16616292e-02,  6.59941509e-02,\n",
       "         -2.39748936e-02,  5.99661730e-02,  1.69239268e-02,\n",
       "          5.48601039e-02, -3.69328000e-02,  1.56771089e-03,\n",
       "         -4.25932109e-02,  5.56489006e-02,  1.80651490e-02,\n",
       "         -2.31912360e-03,  8.09269100e-02,  1.56780817e-02,\n",
       "         -6.56599924e-02,  4.06563208e-02,  6.94824681e-02,\n",
       "          1.31799519e-01, -2.41715703e-02, -5.41666464e-04,\n",
       "          8.12511444e-02, -1.24544753e-02,  5.59009276e-02,\n",
       "          3.03833224e-02,  3.45025361e-02, -4.25813645e-02,\n",
       "         -4.87691276e-02, -7.92479608e-03, -2.45860741e-02,\n",
       "          1.07419631e-02, -2.71094460e-02, -4.10121530e-02,\n",
       "          7.59025365e-02,  1.54261693e-01,  9.14920270e-02,\n",
       "          9.15930271e-02, -2.38110367e-02, -4.98621650e-02,\n",
       "          5.20862490e-02,  3.51433046e-02, -3.00838016e-02,\n",
       "         -1.33551359e-01, -7.30794370e-02, -1.45757420e-03,\n",
       "          3.98689695e-02,  3.05089857e-02,  2.20107846e-02,\n",
       "         -1.85750723e-02, -1.56327698e-03, -1.07222572e-02,\n",
       "          1.51812304e-02, -7.36158192e-02,  7.65142217e-02,\n",
       "          1.50667327e-02,  1.17067873e-01,  2.93122474e-02,\n",
       "         -1.11961877e-02, -5.26424311e-02, -6.80542144e-04]]),\n",
       " 'documents': [\"From: lerxst@wam.umd.edu (where's my thing)\\nSubject: WHAT car is this!?\\nNntp-Posting-Host: rac3.wam.umd.edu\\nOrganization: University of Maryland, College Park\\nLines: 15\\n\\n I was wondering if anyone out there could enlighten me on this car I saw\\nthe other day. It was a 2-door sports car, looked to be from the late 60s/\\nearly 70s. It was called a Bricklin. The doors were really small. In addition,\\nthe front bumper was separate from the rest of the body. This is \\nall I know. If anyone can tellme a model name, engine specs, years\\nof production, where this car is made, history, or whatever info you\\nhave on this funky looking car, please e-mail.\\n\\nThanks,\\n- IL\\n   ---- brought to you by your neighborhood Lerxst ----\\n\\n\\n\\n\\n\",\n",
       "  \"From: guykuo@carson.u.washington.edu (Guy Kuo)\\nSubject: SI Clock Poll - Final Call\\nSummary: Final call for SI clock reports\\nKeywords: SI,acceleration,clock,upgrade\\nArticle-I.D.: shelley.1qvfo9INNc3s\\nOrganization: University of Washington\\nLines: 11\\nNNTP-Posting-Host: carson.u.washington.edu\\n\\nA fair number of brave souls who upgraded their SI clock oscillator have\\nshared their experiences for this poll. Please send a brief message detailing\\nyour experiences with the procedure. Top speed attained, CPU rated speed,\\nadd on cards and adapters, heat sinks, hour of usage per day, floppy disk\\nfunctionality with 800 and 1.4 m floppies are especially requested.\\n\\nI will be summarizing in the next two days, so please add to the network\\nknowledge base if you have done the clock upgrade and haven't answered this\\npoll. Thanks.\\n\\nGuy Kuo <guykuo@u.washington.edu>\\n\"],\n",
       " 'uris': None,\n",
       " 'data': None,\n",
       " 'metadatas': [{'len_of_doc': 721}, {'len_of_doc': 858}],\n",
       " 'included': [<IncludeEnum.embeddings: 'embeddings'>,\n",
       "  <IncludeEnum.documents: 'documents'>,\n",
       "  <IncludeEnum.metadatas: 'metadatas'>]}"
      ]
     },
     "execution_count": 72,
     "metadata": {},
     "output_type": "execute_result"
    }
   ],
   "source": [
    "collection.peek(2)"
   ]
  },
  {
   "cell_type": "code",
   "execution_count": 74,
   "metadata": {},
   "outputs": [
    {
     "data": {
      "text/plain": [
       "100"
      ]
     },
     "execution_count": 74,
     "metadata": {},
     "output_type": "execute_result"
    }
   ],
   "source": [
    "collection.count()"
   ]
  },
  {
   "cell_type": "code",
   "execution_count": null,
   "metadata": {},
   "outputs": [
    {
     "ename": "UniqueConstraintError",
     "evalue": "Collection collection_name already exists",
     "output_type": "error",
     "traceback": [
      "\u001b[0;31m---------------------------------------------------------------------------\u001b[0m",
      "\u001b[0;31mUniqueConstraintError\u001b[0m                     Traceback (most recent call last)",
      "Cell \u001b[0;32mIn[77], line 1\u001b[0m\n\u001b[0;32m----> 1\u001b[0m collectio2\u001b[38;5;241m=\u001b[39mclient\u001b[38;5;241m.\u001b[39mcreate_collection(\n\u001b[1;32m      2\u001b[0m     name\u001b[38;5;241m=\u001b[39m \u001b[38;5;124m\"\u001b[39m\u001b[38;5;124mcollection_name\u001b[39m\u001b[38;5;124m\"\u001b[39m,\n\u001b[1;32m      3\u001b[0m     metadata\u001b[38;5;241m=\u001b[39m{\u001b[38;5;124m\"\u001b[39m\u001b[38;5;124mhnsw:space\u001b[39m\u001b[38;5;124m\"\u001b[39m:\u001b[38;5;124m\"\u001b[39m\u001b[38;5;124mcosine\u001b[39m\u001b[38;5;124m\"\u001b[39m}\n\u001b[1;32m      4\u001b[0m )\n",
      "File \u001b[0;32m/opt/anaconda3/lib/python3.12/site-packages/chromadb/api/client.py:147\u001b[0m, in \u001b[0;36mClient.create_collection\u001b[0;34m(self, name, configuration, metadata, embedding_function, data_loader, get_or_create)\u001b[0m\n\u001b[1;32m    135\u001b[0m \u001b[38;5;129m@override\u001b[39m\n\u001b[1;32m    136\u001b[0m \u001b[38;5;28;01mdef\u001b[39;00m \u001b[38;5;21mcreate_collection\u001b[39m(\n\u001b[1;32m    137\u001b[0m     \u001b[38;5;28mself\u001b[39m,\n\u001b[0;32m   (...)\u001b[0m\n\u001b[1;32m    145\u001b[0m     get_or_create: \u001b[38;5;28mbool\u001b[39m \u001b[38;5;241m=\u001b[39m \u001b[38;5;28;01mFalse\u001b[39;00m,\n\u001b[1;32m    146\u001b[0m ) \u001b[38;5;241m-\u001b[39m\u001b[38;5;241m>\u001b[39m Collection:\n\u001b[0;32m--> 147\u001b[0m     model \u001b[38;5;241m=\u001b[39m \u001b[38;5;28mself\u001b[39m\u001b[38;5;241m.\u001b[39m_server\u001b[38;5;241m.\u001b[39mcreate_collection(\n\u001b[1;32m    148\u001b[0m         name\u001b[38;5;241m=\u001b[39mname,\n\u001b[1;32m    149\u001b[0m         metadata\u001b[38;5;241m=\u001b[39mmetadata,\n\u001b[1;32m    150\u001b[0m         tenant\u001b[38;5;241m=\u001b[39m\u001b[38;5;28mself\u001b[39m\u001b[38;5;241m.\u001b[39mtenant,\n\u001b[1;32m    151\u001b[0m         database\u001b[38;5;241m=\u001b[39m\u001b[38;5;28mself\u001b[39m\u001b[38;5;241m.\u001b[39mdatabase,\n\u001b[1;32m    152\u001b[0m         get_or_create\u001b[38;5;241m=\u001b[39mget_or_create,\n\u001b[1;32m    153\u001b[0m         configuration\u001b[38;5;241m=\u001b[39mconfiguration,\n\u001b[1;32m    154\u001b[0m     )\n\u001b[1;32m    155\u001b[0m     \u001b[38;5;28;01mreturn\u001b[39;00m Collection(\n\u001b[1;32m    156\u001b[0m         client\u001b[38;5;241m=\u001b[39m\u001b[38;5;28mself\u001b[39m\u001b[38;5;241m.\u001b[39m_server,\n\u001b[1;32m    157\u001b[0m         model\u001b[38;5;241m=\u001b[39mmodel,\n\u001b[1;32m    158\u001b[0m         embedding_function\u001b[38;5;241m=\u001b[39membedding_function,\n\u001b[1;32m    159\u001b[0m         data_loader\u001b[38;5;241m=\u001b[39mdata_loader,\n\u001b[1;32m    160\u001b[0m     )\n",
      "File \u001b[0;32m/opt/anaconda3/lib/python3.12/site-packages/chromadb/telemetry/opentelemetry/__init__.py:150\u001b[0m, in \u001b[0;36mtrace_method.<locals>.decorator.<locals>.wrapper\u001b[0;34m(*args, **kwargs)\u001b[0m\n\u001b[1;32m    148\u001b[0m \u001b[38;5;28;01mglobal\u001b[39;00m tracer, granularity\n\u001b[1;32m    149\u001b[0m \u001b[38;5;28;01mif\u001b[39;00m trace_granularity \u001b[38;5;241m<\u001b[39m granularity:\n\u001b[0;32m--> 150\u001b[0m     \u001b[38;5;28;01mreturn\u001b[39;00m f(\u001b[38;5;241m*\u001b[39margs, \u001b[38;5;241m*\u001b[39m\u001b[38;5;241m*\u001b[39mkwargs)\n\u001b[1;32m    151\u001b[0m \u001b[38;5;28;01mif\u001b[39;00m \u001b[38;5;129;01mnot\u001b[39;00m tracer:\n\u001b[1;32m    152\u001b[0m     \u001b[38;5;28;01mreturn\u001b[39;00m f(\u001b[38;5;241m*\u001b[39margs, \u001b[38;5;241m*\u001b[39m\u001b[38;5;241m*\u001b[39mkwargs)\n",
      "File \u001b[0;32m/opt/anaconda3/lib/python3.12/site-packages/chromadb/api/segment.py:103\u001b[0m, in \u001b[0;36mrate_limit.<locals>.wrapper\u001b[0;34m(*args, **kwargs)\u001b[0m\n\u001b[1;32m    100\u001b[0m \u001b[38;5;129m@wraps\u001b[39m(func)\n\u001b[1;32m    101\u001b[0m \u001b[38;5;28;01mdef\u001b[39;00m \u001b[38;5;21mwrapper\u001b[39m(\u001b[38;5;241m*\u001b[39margs: Any, \u001b[38;5;241m*\u001b[39m\u001b[38;5;241m*\u001b[39mkwargs: Any) \u001b[38;5;241m-\u001b[39m\u001b[38;5;241m>\u001b[39m Any:\n\u001b[1;32m    102\u001b[0m     \u001b[38;5;28mself\u001b[39m \u001b[38;5;241m=\u001b[39m args[\u001b[38;5;241m0\u001b[39m]\n\u001b[0;32m--> 103\u001b[0m     \u001b[38;5;28;01mreturn\u001b[39;00m \u001b[38;5;28mself\u001b[39m\u001b[38;5;241m.\u001b[39m_rate_limit_enforcer\u001b[38;5;241m.\u001b[39mrate_limit(func)(\u001b[38;5;241m*\u001b[39margs, \u001b[38;5;241m*\u001b[39m\u001b[38;5;241m*\u001b[39mkwargs)\n",
      "File \u001b[0;32m/opt/anaconda3/lib/python3.12/site-packages/chromadb/rate_limit/simple_rate_limit/__init__.py:24\u001b[0m, in \u001b[0;36mSimpleRateLimitEnforcer.rate_limit.<locals>.wrapper\u001b[0;34m(*args, **kwargs)\u001b[0m\n\u001b[1;32m     22\u001b[0m \u001b[38;5;129m@wraps\u001b[39m(func)\n\u001b[1;32m     23\u001b[0m \u001b[38;5;28;01mdef\u001b[39;00m \u001b[38;5;21mwrapper\u001b[39m(\u001b[38;5;241m*\u001b[39margs: Any, \u001b[38;5;241m*\u001b[39m\u001b[38;5;241m*\u001b[39mkwargs: Any) \u001b[38;5;241m-\u001b[39m\u001b[38;5;241m>\u001b[39m Any:\n\u001b[0;32m---> 24\u001b[0m     \u001b[38;5;28;01mreturn\u001b[39;00m func(\u001b[38;5;241m*\u001b[39margs, \u001b[38;5;241m*\u001b[39m\u001b[38;5;241m*\u001b[39mkwargs)\n",
      "File \u001b[0;32m/opt/anaconda3/lib/python3.12/site-packages/chromadb/api/segment.py:242\u001b[0m, in \u001b[0;36mSegmentAPI.create_collection\u001b[0;34m(self, name, configuration, metadata, get_or_create, tenant, database)\u001b[0m\n\u001b[1;32m    229\u001b[0m model \u001b[38;5;241m=\u001b[39m CollectionModel(\n\u001b[1;32m    230\u001b[0m     \u001b[38;5;28mid\u001b[39m\u001b[38;5;241m=\u001b[39m\u001b[38;5;28mid\u001b[39m,\n\u001b[1;32m    231\u001b[0m     name\u001b[38;5;241m=\u001b[39mname,\n\u001b[0;32m   (...)\u001b[0m\n\u001b[1;32m    238\u001b[0m     dimension\u001b[38;5;241m=\u001b[39m\u001b[38;5;28;01mNone\u001b[39;00m,\n\u001b[1;32m    239\u001b[0m )\n\u001b[1;32m    241\u001b[0m \u001b[38;5;66;03m# TODO: Let sysdb create the collection directly from the model\u001b[39;00m\n\u001b[0;32m--> 242\u001b[0m coll, created \u001b[38;5;241m=\u001b[39m \u001b[38;5;28mself\u001b[39m\u001b[38;5;241m.\u001b[39m_sysdb\u001b[38;5;241m.\u001b[39mcreate_collection(\n\u001b[1;32m    243\u001b[0m     \u001b[38;5;28mid\u001b[39m\u001b[38;5;241m=\u001b[39mmodel\u001b[38;5;241m.\u001b[39mid,\n\u001b[1;32m    244\u001b[0m     name\u001b[38;5;241m=\u001b[39mmodel\u001b[38;5;241m.\u001b[39mname,\n\u001b[1;32m    245\u001b[0m     configuration\u001b[38;5;241m=\u001b[39mmodel\u001b[38;5;241m.\u001b[39mget_configuration(),\n\u001b[1;32m    246\u001b[0m     segments\u001b[38;5;241m=\u001b[39m[],  \u001b[38;5;66;03m# Passing empty till backend changes are deployed.\u001b[39;00m\n\u001b[1;32m    247\u001b[0m     metadata\u001b[38;5;241m=\u001b[39mmodel\u001b[38;5;241m.\u001b[39mmetadata,\n\u001b[1;32m    248\u001b[0m     dimension\u001b[38;5;241m=\u001b[39m\u001b[38;5;28;01mNone\u001b[39;00m,  \u001b[38;5;66;03m# This is lazily populated on the first add\u001b[39;00m\n\u001b[1;32m    249\u001b[0m     get_or_create\u001b[38;5;241m=\u001b[39mget_or_create,\n\u001b[1;32m    250\u001b[0m     tenant\u001b[38;5;241m=\u001b[39mtenant,\n\u001b[1;32m    251\u001b[0m     database\u001b[38;5;241m=\u001b[39mdatabase,\n\u001b[1;32m    252\u001b[0m )\n\u001b[1;32m    254\u001b[0m \u001b[38;5;28;01mif\u001b[39;00m created:\n\u001b[1;32m    255\u001b[0m     segments \u001b[38;5;241m=\u001b[39m \u001b[38;5;28mself\u001b[39m\u001b[38;5;241m.\u001b[39m_manager\u001b[38;5;241m.\u001b[39mprepare_segments_for_new_collection(coll)\n",
      "File \u001b[0;32m/opt/anaconda3/lib/python3.12/site-packages/chromadb/telemetry/opentelemetry/__init__.py:150\u001b[0m, in \u001b[0;36mtrace_method.<locals>.decorator.<locals>.wrapper\u001b[0;34m(*args, **kwargs)\u001b[0m\n\u001b[1;32m    148\u001b[0m \u001b[38;5;28;01mglobal\u001b[39;00m tracer, granularity\n\u001b[1;32m    149\u001b[0m \u001b[38;5;28;01mif\u001b[39;00m trace_granularity \u001b[38;5;241m<\u001b[39m granularity:\n\u001b[0;32m--> 150\u001b[0m     \u001b[38;5;28;01mreturn\u001b[39;00m f(\u001b[38;5;241m*\u001b[39margs, \u001b[38;5;241m*\u001b[39m\u001b[38;5;241m*\u001b[39mkwargs)\n\u001b[1;32m    151\u001b[0m \u001b[38;5;28;01mif\u001b[39;00m \u001b[38;5;129;01mnot\u001b[39;00m tracer:\n\u001b[1;32m    152\u001b[0m     \u001b[38;5;28;01mreturn\u001b[39;00m f(\u001b[38;5;241m*\u001b[39margs, \u001b[38;5;241m*\u001b[39m\u001b[38;5;241m*\u001b[39mkwargs)\n",
      "File \u001b[0;32m/opt/anaconda3/lib/python3.12/site-packages/chromadb/db/mixins/sysdb.py:305\u001b[0m, in \u001b[0;36mSqlSysDB.create_collection\u001b[0;34m(self, id, name, configuration, segments, metadata, dimension, get_or_create, tenant, database)\u001b[0m\n\u001b[1;32m    298\u001b[0m         \u001b[38;5;28;01mreturn\u001b[39;00m (\n\u001b[1;32m    299\u001b[0m             \u001b[38;5;28mself\u001b[39m\u001b[38;5;241m.\u001b[39mget_collections(\n\u001b[1;32m    300\u001b[0m                 \u001b[38;5;28mid\u001b[39m\u001b[38;5;241m=\u001b[39mcollection\u001b[38;5;241m.\u001b[39mid, tenant\u001b[38;5;241m=\u001b[39mtenant, database\u001b[38;5;241m=\u001b[39mdatabase\n\u001b[1;32m    301\u001b[0m             )[\u001b[38;5;241m0\u001b[39m],\n\u001b[1;32m    302\u001b[0m             \u001b[38;5;28;01mFalse\u001b[39;00m,\n\u001b[1;32m    303\u001b[0m         )\n\u001b[1;32m    304\u001b[0m     \u001b[38;5;28;01melse\u001b[39;00m:\n\u001b[0;32m--> 305\u001b[0m         \u001b[38;5;28;01mraise\u001b[39;00m UniqueConstraintError(\u001b[38;5;124mf\u001b[39m\u001b[38;5;124m\"\u001b[39m\u001b[38;5;124mCollection \u001b[39m\u001b[38;5;132;01m{\u001b[39;00mname\u001b[38;5;132;01m}\u001b[39;00m\u001b[38;5;124m already exists\u001b[39m\u001b[38;5;124m\"\u001b[39m)\n\u001b[1;32m    307\u001b[0m collection \u001b[38;5;241m=\u001b[39m Collection(\n\u001b[1;32m    308\u001b[0m     \u001b[38;5;28mid\u001b[39m\u001b[38;5;241m=\u001b[39m\u001b[38;5;28mid\u001b[39m,\n\u001b[1;32m    309\u001b[0m     name\u001b[38;5;241m=\u001b[39mname,\n\u001b[0;32m   (...)\u001b[0m\n\u001b[1;32m    315\u001b[0m     version\u001b[38;5;241m=\u001b[39m\u001b[38;5;241m0\u001b[39m,\n\u001b[1;32m    316\u001b[0m )\n\u001b[1;32m    318\u001b[0m \u001b[38;5;28;01mwith\u001b[39;00m \u001b[38;5;28mself\u001b[39m\u001b[38;5;241m.\u001b[39mtx() \u001b[38;5;28;01mas\u001b[39;00m cur:\n",
      "\u001b[0;31mUniqueConstraintError\u001b[0m: Collection collection_name already exists"
     ]
    }
   ],
   "source": [
    "collection=client.create_collection(\n",
    "    name= \"collection_name\",\n",
    "    metadata={\"hnsw:space\":\"cosine\"}\n",
    ")"
   ]
  },
  {
   "cell_type": "code",
   "execution_count": null,
   "metadata": {},
   "outputs": [],
   "source": []
  }
 ],
 "metadata": {
  "kernelspec": {
   "display_name": "base",
   "language": "python",
   "name": "python3"
  },
  "language_info": {
   "codemirror_mode": {
    "name": "ipython",
    "version": 3
   },
   "file_extension": ".py",
   "mimetype": "text/x-python",
   "name": "python",
   "nbconvert_exporter": "python",
   "pygments_lexer": "ipython3",
   "version": "3.12.7"
  }
 },
 "nbformat": 4,
 "nbformat_minor": 2
}
